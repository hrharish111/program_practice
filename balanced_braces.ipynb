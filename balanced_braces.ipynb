{
    "cells": [
        {
            "cell_type": "code",
            "execution_count": 11,
            "source": [
                "#Balanced braces program\r\n",
                "\r\n",
                "balancing_braces='{[()]}'\r\n",
                "open_braces=['{','(','[']\r\n",
                "close_braces=['}',')',']']\r\n",
                "best_braces=dict(zip(close_braces,open_braces))\r\n",
                "reading_braces=[]\r\n",
                "for i in balancing_braces:\r\n",
                "    if i in open_braces:\r\n",
                "        reading_braces.append(i)\r\n",
                "    elif i in close_braces:\r\n",
                "        expected_braces = best_braces[i]\r\n",
                "        if reading_braces[-1] == expected_braces:\r\n",
                "            reading_braces.pop()\r\n",
                "        else:\r\n",
                "            print(\"Unbalaced braces\")\r\n",
                "            break\r\n",
                "if len(reading_braces) == 0: print(\"balanced braces\")\r\n"
            ],
            "outputs": [
                {
                    "output_type": "stream",
                    "name": "stdout",
                    "text": [
                        "balanced braces\n"
                    ]
                }
            ],
            "metadata": {}
        },
        {
            "cell_type": "code",
            "execution_count": 4,
            "source": [
                "#Sorting multiple list to single list\r\n",
                "\r\n",
                "a=[[1,3,5,7,9],[2,4,6,8]]\r\n",
                "sorted_list=[]\r\n",
                "increment_1=0\r\n",
                "increment_2=0\r\n",
                "while increment_1 < len(a[0])  and increment_2 < len(a[1]):\r\n",
                "    if a[0][increment_1] < a[1][increment_2]:\r\n",
                "        sorted_list.append(a[0][increment_1])\r\n",
                "        increment_1+=1\r\n",
                "    else:\r\n",
                "        sorted_list.append(a[1][increment_2])\r\n",
                "        increment_2+=1\r\n",
                "\r\n",
                "print(sorted_list+a[0][increment_1:]+a[1][increment_2:])\r\n"
            ],
            "outputs": [
                {
                    "output_type": "stream",
                    "name": "stdout",
                    "text": [
                        "[1, 2, 3, 4, 5, 6, 7, 8, 9]\n"
                    ]
                }
            ],
            "metadata": {}
        }
    ],
    "metadata": {
        "orig_nbformat": 4,
        "language_info": {
            "name": "python",
            "version": "3.8.10",
            "mimetype": "text/x-python",
            "codemirror_mode": {
                "name": "ipython",
                "version": 3
            },
            "pygments_lexer": "ipython3",
            "nbconvert_exporter": "python",
            "file_extension": ".py"
        },
        "kernelspec": {
            "name": "python3",
            "display_name": "Python 3.8.10 64-bit (windows store)"
        },
        "interpreter": {
            "hash": "b8213f5d5483860be3ca5c70f5e3a7ad817a88159d1c1f39b6b22a2fa0044d8e"
        }
    },
    "nbformat": 4,
    "nbformat_minor": 2
}
